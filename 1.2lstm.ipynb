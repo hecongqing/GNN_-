import torch
import torch.nn as nn
import torch.optim as optim
import numpy as np
import matplotlib.pyplot as plt
import seaborn as sns
from sklearn.metrics import accuracy_score, classification_report
import jieba
from collections import Counter

# 设置随机种子
torch.manual_seed(42)
np.random.seed(42)

# 设置中文字体
plt.rcParams['font.sans-serif'] = ['SimHei']
plt.rcParams['axes.unicode_minus'] = False

print("环境设置完成")
print(f"PyTorch版本: {torch.__version__}")
device = torch.device('cuda' if torch.cuda.is_available() else 'cpu')
print(f"使用设备: {device}")# 1.2 LSTM (Long Short-Term Memory) 详解

本notebook将深入介绍LSTM网络的原理、结构和实现，以及在情感分析中的应用。

## 目录
1. LSTM简介
2. LSTM的核心思想
3. LSTM的结构详解
4. LSTM的数学原理
5. LSTM vs 普通RNN
6. LSTM情感分析实现
7. 实验和结果分析