# 导入必要的库
import sys
import os

# 添加项目根目录到Python路径
sys.path.append('..')

# 基础库
import torch
import numpy as np
import pandas as pd
import matplotlib.pyplot as plt

print("实验环境已准备就绪")# 实验性Notebook

这是一个用于实验和测试的notebook文件。

## 可以用于：
- 测试新的模型架构
- 数据探索和分析
- 模型性能评估
- 可视化实验结果