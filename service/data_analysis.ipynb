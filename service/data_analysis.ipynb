import sys
import os
sys.path.append('..')

import pandas as pd
import numpy as np
import matplotlib.pyplot as plt
import seaborn as sns
from datetime import datetime
import warnings
warnings.filterwarnings('ignore')

# 设置中文字体
plt.rcParams['font.sans-serif'] = ['SimHei', 'DejaVu Sans']
plt.rcParams['axes.unicode_minus'] = False

# 设置图表样式
sns.set_style("whitegrid")# 阿里移动推荐数据集分析

本notebook用于分析阿里移动推荐算法挑战赛的数据集，包括数据探索、可视化和预处理。