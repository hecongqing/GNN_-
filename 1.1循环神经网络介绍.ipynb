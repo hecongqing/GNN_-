import torch
import torch.nn as nn
import numpy as np
import matplotlib.pyplot as plt

# 设置中文字体
plt.rcParams['font.sans-serif'] = ['SimHei']
plt.rcParams['axes.unicode_minus'] = False

print("环境设置完成")
print(f"PyTorch版本: {torch.__version__}")# 1.1 循环神经网络（RNN）介绍

本notebook将介绍循环神经网络的基本概念、原理和实现。

## 目录
1. 什么是循环神经网络
2. RNN的基本结构
3. RNN的数学原理
4. RNN的应用场景
5. RNN的问题与挑战
6. 简单RNN实现